{
  "nbformat": 4,
  "nbformat_minor": 0,
  "metadata": {
    "colab": {
      "name": "Untitled1.ipynb",
      "provenance": [],
      "collapsed_sections": [],
      "include_colab_link": true
    },
    "kernelspec": {
      "name": "python3",
      "display_name": "Python 3"
    }
  },
  "cells": [
    {
      "cell_type": "markdown",
      "metadata": {
        "id": "view-in-github",
        "colab_type": "text"
      },
      "source": [
        "<a href=\"https://colab.research.google.com/github/michhottinger/MedCab2bw/blob/master/Untitled1.ipynb\" target=\"_parent\"><img src=\"https://colab.research.google.com/assets/colab-badge.svg\" alt=\"Open In Colab\"/></a>"
      ]
    },
    {
      "cell_type": "code",
      "metadata": {
        "id": "JdHp1eraRwNI",
        "colab_type": "code",
        "colab": {
          "base_uri": "https://localhost:8080/",
          "height": 281
        },
        "outputId": "9409fabc-5c2f-43d4-e0a7-af172bf4862a"
      },
      "source": [
        "#open and view data\n",
        "import pandas as pd\n",
        "\n",
        "url = 'https://raw.githubusercontent.com/DNason1999/simple_repository/master/df_merged.csv'\n",
        "\n",
        "df = pd.read_csv(url)\n",
        "df.head(5)"
      ],
      "execution_count": 67,
      "outputs": [
        {
          "output_type": "execute_result",
          "data": {
            "text/html": [
              "<div>\n",
              "<style scoped>\n",
              "    .dataframe tbody tr th:only-of-type {\n",
              "        vertical-align: middle;\n",
              "    }\n",
              "\n",
              "    .dataframe tbody tr th {\n",
              "        vertical-align: top;\n",
              "    }\n",
              "\n",
              "    .dataframe thead th {\n",
              "        text-align: right;\n",
              "    }\n",
              "</style>\n",
              "<table border=\"1\" class=\"dataframe\">\n",
              "  <thead>\n",
              "    <tr style=\"text-align: right;\">\n",
              "      <th></th>\n",
              "      <th>Strain</th>\n",
              "      <th>Type</th>\n",
              "      <th>Rating</th>\n",
              "      <th>Description</th>\n",
              "      <th>flavors</th>\n",
              "      <th>positive</th>\n",
              "      <th>negative</th>\n",
              "      <th>medical</th>\n",
              "    </tr>\n",
              "  </thead>\n",
              "  <tbody>\n",
              "    <tr>\n",
              "      <th>0</th>\n",
              "      <td>Afpak</td>\n",
              "      <td>hybrid</td>\n",
              "      <td>4.2</td>\n",
              "      <td>Afpak, named for its direct Afghani and Pakist...</td>\n",
              "      <td>['Earthy', 'Chemical', 'Pine', 'Spicy/Herbal']</td>\n",
              "      <td>['Relaxed', 'Hungry', 'Happy', 'Sleepy', 'Crea...</td>\n",
              "      <td>['Dizzy']</td>\n",
              "      <td>['Depression', 'Insomnia', 'Pain', 'Stress', '...</td>\n",
              "    </tr>\n",
              "    <tr>\n",
              "      <th>1</th>\n",
              "      <td>African</td>\n",
              "      <td>sativa</td>\n",
              "      <td>3.9</td>\n",
              "      <td>African refers to the indigenous varieties of ...</td>\n",
              "      <td>['Spicy/Herbal', 'Pungent', 'Earthy', 'Pepper']</td>\n",
              "      <td>['Euphoric', 'Happy', 'Creative', 'Energetic',...</td>\n",
              "      <td>['Dry Mouth']</td>\n",
              "      <td>['Depression', 'Pain', 'Stress', 'Lack of Appe...</td>\n",
              "    </tr>\n",
              "    <tr>\n",
              "      <th>2</th>\n",
              "      <td>Afternoon Delight</td>\n",
              "      <td>hybrid</td>\n",
              "      <td>4.8</td>\n",
              "      <td>Afternoon Delight, created by Colorado Seed In...</td>\n",
              "      <td>['Pepper', 'Flowery', 'Pine', 'Pungent', 'Citr...</td>\n",
              "      <td>['Relaxed', 'Hungry', 'Euphoric', 'Uplifted', ...</td>\n",
              "      <td>['Dizzy', 'Dry Mouth', 'Paranoid']</td>\n",
              "      <td>['Depression', 'Insomnia', 'Pain', 'Stress', '...</td>\n",
              "    </tr>\n",
              "    <tr>\n",
              "      <th>3</th>\n",
              "      <td>Afwreck</td>\n",
              "      <td>hybrid</td>\n",
              "      <td>4.2</td>\n",
              "      <td>Afwreck is a hybrid cross of Afghani and Train...</td>\n",
              "      <td>['Pine', 'Earthy', 'Flowery', 'Pungent']</td>\n",
              "      <td>['Relaxed', 'Happy', 'Creative', 'Uplifted', '...</td>\n",
              "      <td>['Dizzy', 'Dry Mouth', 'Paranoid', 'Dry Eyes']</td>\n",
              "      <td>['Pain', 'Stress', 'Headache', 'Fatigue', 'Hea...</td>\n",
              "    </tr>\n",
              "    <tr>\n",
              "      <th>4</th>\n",
              "      <td>Agent Orange</td>\n",
              "      <td>hybrid</td>\n",
              "      <td>4.2</td>\n",
              "      <td>Don’t let the name scare you! The only herbici...</td>\n",
              "      <td>['Citrus', 'Orange', 'Sweet', 'Earthy']</td>\n",
              "      <td>['Relaxed', 'Euphoric', 'Happy', 'Energetic', ...</td>\n",
              "      <td>['Dizzy', 'Dry Mouth', 'Paranoid', 'Dry Eyes']</td>\n",
              "      <td>['Depression', 'Pain', 'Stress', 'Nausea', 'He...</td>\n",
              "    </tr>\n",
              "  </tbody>\n",
              "</table>\n",
              "</div>"
            ],
            "text/plain": [
              "              Strain  ...                                            medical\n",
              "0              Afpak  ...  ['Depression', 'Insomnia', 'Pain', 'Stress', '...\n",
              "1            African  ...  ['Depression', 'Pain', 'Stress', 'Lack of Appe...\n",
              "2  Afternoon Delight  ...  ['Depression', 'Insomnia', 'Pain', 'Stress', '...\n",
              "3            Afwreck  ...  ['Pain', 'Stress', 'Headache', 'Fatigue', 'Hea...\n",
              "4       Agent Orange  ...  ['Depression', 'Pain', 'Stress', 'Nausea', 'He...\n",
              "\n",
              "[5 rows x 8 columns]"
            ]
          },
          "metadata": {
            "tags": []
          },
          "execution_count": 67
        }
      ]
    },
    {
      "cell_type": "code",
      "metadata": {
        "id": "Az0AmuLndOT5",
        "colab_type": "code",
        "colab": {
          "base_uri": "https://localhost:8080/",
          "height": 107
        },
        "outputId": "6599d389-32e4-48f3-8fb7-940418814746"
      },
      "source": [
        "import ast\n",
        "\n",
        "flavors = set()\n",
        "positive = set()\n",
        "negative = set()\n",
        "medical = set()\n",
        "\n",
        "for i, row in df.iterrows():\n",
        "  # print(row['positive'])\n",
        "  flavors.update(ast.literal_eval(row['flavors']))\n",
        "  positive.update(ast.literal_eval(row['positive']))\n",
        "  negative.update(ast.literal_eval(row['negative']))\n",
        "  medical.update(ast.literal_eval(row['medical']))\n",
        "\n",
        "print(flavors)\n",
        "print(positive)\n",
        "print(negative)\n",
        "print(medical)"
      ],
      "execution_count": 68,
      "outputs": [
        {
          "output_type": "stream",
          "text": [
            "{'Lemon', 'Diesel', 'Butter', 'Apricot', 'Pear', 'Vanilla', 'Mango', 'Strawberry', 'Rose', 'Pungent', 'Peach', 'None', 'Chestnut', 'Tropical', 'Blueberry', 'Blue Cheese', 'Lime', 'Flowery', 'Skunk', 'Orange', 'Apple', 'Tobacco', 'Menthol', 'Coffee', 'Earthy', 'Tea', 'Citrus', 'Plum', 'Cheese', 'Tar', 'Violet', 'Nutty', 'Spicy/Herbal', 'Grapefruit', 'Lavender', 'Pineapple', 'Fruit', 'Grape', 'Minty', 'Ammonia', 'Berry', 'Tree Fruit', 'Pepper', 'Chemical', 'Pine', 'Honey', 'Sage', 'Mint', 'Tree', 'Sweet', 'Blue', 'Woody'}\n",
            "{'Relaxed', 'Focused', 'Uplifted', 'Aroused', 'Creative', 'Talkative', 'Euphoric', 'Happy', 'Giggly', 'None', 'Tingly', 'Sleepy', 'Energetic', 'Hungry'}\n",
            "{'Paranoid', 'Anxious', 'Dry Eyes', 'Dizzy', 'Dry Mouth'}\n",
            "{'Fatigue', 'Headaches', 'Seizures', 'Eye Pressure', 'Pain', 'Spasticity', 'Muscle Spasms', 'Depression', 'Lack of Appetite', 'Headache', 'Insomnia', 'Stress', 'Inflammation', 'Cramps', 'Nausea'}\n"
          ],
          "name": "stdout"
        }
      ]
    }
  ]
}